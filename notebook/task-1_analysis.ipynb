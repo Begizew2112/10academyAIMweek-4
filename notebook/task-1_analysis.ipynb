{
 "cells": [
  {
   "cell_type": "code",
   "execution_count": 3,
   "metadata": {},
   "outputs": [
    {
     "name": "stderr",
     "output_type": "stream",
     "text": [
      "C:\\Users\\Yibabe\\AppData\\Local\\Temp\\ipykernel_1516\\3559807156.py:2: DtypeWarning: Columns (7,21,22) have mixed types. Specify dtype option on import or set low_memory=False.\n",
      "  df_cleaned= pd.read_csv(r'C:\\Users\\Yibabe\\Desktop\\10academyAIMweek-4\\data\\cleaned_merge.csv')\n"
     ]
    }
   ],
   "source": [
    "import pandas as pd\n",
    "df_cleaned= pd.read_csv(r'C:\\Users\\Yibabe\\Desktop\\10academyAIMweek-4\\data\\cleaned_merge.csv')"
   ]
  },
  {
   "cell_type": "code",
   "execution_count": 4,
   "metadata": {},
   "outputs": [
    {
     "data": {
      "text/html": [
       "<div>\n",
       "<style scoped>\n",
       "    .dataframe tbody tr th:only-of-type {\n",
       "        vertical-align: middle;\n",
       "    }\n",
       "\n",
       "    .dataframe tbody tr th {\n",
       "        vertical-align: top;\n",
       "    }\n",
       "\n",
       "    .dataframe thead th {\n",
       "        text-align: right;\n",
       "    }\n",
       "</style>\n",
       "<table border=\"1\" class=\"dataframe\">\n",
       "  <thead>\n",
       "    <tr style=\"text-align: right;\">\n",
       "      <th></th>\n",
       "      <th>Store</th>\n",
       "      <th>DayOfWeek</th>\n",
       "      <th>Date</th>\n",
       "      <th>Sales</th>\n",
       "      <th>Customers</th>\n",
       "      <th>Open</th>\n",
       "      <th>Promo</th>\n",
       "      <th>StateHoliday</th>\n",
       "      <th>SchoolHoliday</th>\n",
       "      <th>StoreType</th>\n",
       "      <th>...</th>\n",
       "      <th>Promo2</th>\n",
       "      <th>Promo2SinceWeek</th>\n",
       "      <th>Promo2SinceYear</th>\n",
       "      <th>PromoInterval</th>\n",
       "      <th>Month</th>\n",
       "      <th>Year</th>\n",
       "      <th>CompetitionOpenTime</th>\n",
       "      <th>BeforeHoliday</th>\n",
       "      <th>AfterHoliday</th>\n",
       "      <th>HolidayPeriod</th>\n",
       "    </tr>\n",
       "  </thead>\n",
       "  <tbody>\n",
       "    <tr>\n",
       "      <th>0</th>\n",
       "      <td>1</td>\n",
       "      <td>5</td>\n",
       "      <td>2015-07-31</td>\n",
       "      <td>5263</td>\n",
       "      <td>555</td>\n",
       "      <td>1</td>\n",
       "      <td>1</td>\n",
       "      <td>0</td>\n",
       "      <td>1</td>\n",
       "      <td>c</td>\n",
       "      <td>...</td>\n",
       "      <td>0</td>\n",
       "      <td>22.0</td>\n",
       "      <td>2012.0</td>\n",
       "      <td>NoPromo</td>\n",
       "      <td>7</td>\n",
       "      <td>2015</td>\n",
       "      <td>82.0</td>\n",
       "      <td>0</td>\n",
       "      <td>0</td>\n",
       "      <td>AfterHoliday</td>\n",
       "    </tr>\n",
       "    <tr>\n",
       "      <th>1</th>\n",
       "      <td>2</td>\n",
       "      <td>5</td>\n",
       "      <td>2015-07-31</td>\n",
       "      <td>6064</td>\n",
       "      <td>625</td>\n",
       "      <td>1</td>\n",
       "      <td>1</td>\n",
       "      <td>0</td>\n",
       "      <td>1</td>\n",
       "      <td>a</td>\n",
       "      <td>...</td>\n",
       "      <td>1</td>\n",
       "      <td>13.0</td>\n",
       "      <td>2010.0</td>\n",
       "      <td>Jan,Apr,Jul,Oct</td>\n",
       "      <td>7</td>\n",
       "      <td>2015</td>\n",
       "      <td>92.0</td>\n",
       "      <td>0</td>\n",
       "      <td>0</td>\n",
       "      <td>NormalDay</td>\n",
       "    </tr>\n",
       "    <tr>\n",
       "      <th>2</th>\n",
       "      <td>3</td>\n",
       "      <td>5</td>\n",
       "      <td>2015-07-31</td>\n",
       "      <td>8314</td>\n",
       "      <td>821</td>\n",
       "      <td>1</td>\n",
       "      <td>1</td>\n",
       "      <td>0</td>\n",
       "      <td>1</td>\n",
       "      <td>a</td>\n",
       "      <td>...</td>\n",
       "      <td>1</td>\n",
       "      <td>14.0</td>\n",
       "      <td>2011.0</td>\n",
       "      <td>Jan,Apr,Jul,Oct</td>\n",
       "      <td>7</td>\n",
       "      <td>2015</td>\n",
       "      <td>103.0</td>\n",
       "      <td>0</td>\n",
       "      <td>0</td>\n",
       "      <td>NormalDay</td>\n",
       "    </tr>\n",
       "    <tr>\n",
       "      <th>3</th>\n",
       "      <td>6</td>\n",
       "      <td>5</td>\n",
       "      <td>2015-07-31</td>\n",
       "      <td>5651</td>\n",
       "      <td>589</td>\n",
       "      <td>1</td>\n",
       "      <td>1</td>\n",
       "      <td>0</td>\n",
       "      <td>1</td>\n",
       "      <td>a</td>\n",
       "      <td>...</td>\n",
       "      <td>0</td>\n",
       "      <td>22.0</td>\n",
       "      <td>2012.0</td>\n",
       "      <td>NoPromo</td>\n",
       "      <td>7</td>\n",
       "      <td>2015</td>\n",
       "      <td>19.0</td>\n",
       "      <td>0</td>\n",
       "      <td>0</td>\n",
       "      <td>NormalDay</td>\n",
       "    </tr>\n",
       "    <tr>\n",
       "      <th>4</th>\n",
       "      <td>8</td>\n",
       "      <td>5</td>\n",
       "      <td>2015-07-31</td>\n",
       "      <td>8492</td>\n",
       "      <td>833</td>\n",
       "      <td>1</td>\n",
       "      <td>1</td>\n",
       "      <td>0</td>\n",
       "      <td>1</td>\n",
       "      <td>a</td>\n",
       "      <td>...</td>\n",
       "      <td>0</td>\n",
       "      <td>22.0</td>\n",
       "      <td>2012.0</td>\n",
       "      <td>NoPromo</td>\n",
       "      <td>7</td>\n",
       "      <td>2015</td>\n",
       "      <td>9.0</td>\n",
       "      <td>0</td>\n",
       "      <td>0</td>\n",
       "      <td>NormalDay</td>\n",
       "    </tr>\n",
       "  </tbody>\n",
       "</table>\n",
       "<p>5 rows × 24 columns</p>\n",
       "</div>"
      ],
      "text/plain": [
       "   Store  DayOfWeek        Date  Sales  Customers  Open  Promo StateHoliday  \\\n",
       "0      1          5  2015-07-31   5263        555     1      1            0   \n",
       "1      2          5  2015-07-31   6064        625     1      1            0   \n",
       "2      3          5  2015-07-31   8314        821     1      1            0   \n",
       "3      6          5  2015-07-31   5651        589     1      1            0   \n",
       "4      8          5  2015-07-31   8492        833     1      1            0   \n",
       "\n",
       "   SchoolHoliday StoreType  ... Promo2  Promo2SinceWeek  Promo2SinceYear  \\\n",
       "0              1         c  ...      0             22.0           2012.0   \n",
       "1              1         a  ...      1             13.0           2010.0   \n",
       "2              1         a  ...      1             14.0           2011.0   \n",
       "3              1         a  ...      0             22.0           2012.0   \n",
       "4              1         a  ...      0             22.0           2012.0   \n",
       "\n",
       "     PromoInterval  Month  Year  CompetitionOpenTime BeforeHoliday  \\\n",
       "0          NoPromo      7  2015                 82.0             0   \n",
       "1  Jan,Apr,Jul,Oct      7  2015                 92.0             0   \n",
       "2  Jan,Apr,Jul,Oct      7  2015                103.0             0   \n",
       "3          NoPromo      7  2015                 19.0             0   \n",
       "4          NoPromo      7  2015                  9.0             0   \n",
       "\n",
       "   AfterHoliday  HolidayPeriod  \n",
       "0             0   AfterHoliday  \n",
       "1             0      NormalDay  \n",
       "2             0      NormalDay  \n",
       "3             0      NormalDay  \n",
       "4             0      NormalDay  \n",
       "\n",
       "[5 rows x 24 columns]"
      ]
     },
     "execution_count": 4,
     "metadata": {},
     "output_type": "execute_result"
    }
   ],
   "source": [
    "df_cleaned.head()"
   ]
  },
  {
   "cell_type": "code",
   "execution_count": null,
   "metadata": {},
   "outputs": [],
   "source": [
    "●to Check & compare sales behavior before, during, and after holidays\n",
    "Identify Holiday Periods The column StateHoliday should indicate whether a date is during a public holiday. You might also want to create new columns that indicate whether a date is before or after a holiday.\n",
    "\n",
    "Before Holiday: Create a column to identify days just before holidays (e.g., the day before a holiday).\n",
    "During Holiday: Use the StateHoliday column.\n",
    "After Holiday: Create a column to identify days immediately following holidays."
   ]
  },
  {
   "cell_type": "code",
   "execution_count": 5,
   "metadata": {},
   "outputs": [],
   "source": [
    "# Mark days as 'Before Holiday', 'During Holiday', 'After Holiday'\n",
    "df_cleaned['BeforeHoliday'] = df_cleaned['StateHoliday'].shift(-1).fillna(0)  # Previous day is a holiday\n",
    "df_cleaned['AfterHoliday'] = df_cleaned['StateHoliday'].shift(1).fillna(0)  # Next day is a holiday\n"
   ]
  },
  {
   "cell_type": "code",
   "execution_count": null,
   "metadata": {},
   "outputs": [],
   "source": [
    "Group by Holiday Periods You can now group your data by these periods (BeforeHoliday, DuringHoliday, AfterHoliday) and calculate the average sales for each period."
   ]
  },
  {
   "cell_type": "code",
   "execution_count": 6,
   "metadata": {},
   "outputs": [],
   "source": [
    "# Create a new column to define the period\n",
    "df_cleaned['HolidayPeriod'] = 'NormalDay'\n",
    "df_cleaned.loc[df_cleaned['StateHoliday'] != '0', 'HolidayPeriod'] = 'DuringHoliday'\n",
    "df_cleaned.loc[df_cleaned['BeforeHoliday'] != '0', 'HolidayPeriod'] = 'BeforeHoliday'\n",
    "df_cleaned.loc[df_cleaned['AfterHoliday'] != '0', 'HolidayPeriod'] = 'AfterHoliday'\n"
   ]
  },
  {
   "cell_type": "code",
   "execution_count": 7,
   "metadata": {},
   "outputs": [
    {
     "name": "stdout",
     "output_type": "stream",
     "text": [
      "HolidayPeriod\n",
      "AfterHoliday     4981.517615\n",
      "BeforeHoliday    3870.075938\n",
      "DuringHoliday     155.109535\n",
      "NormalDay        5598.966845\n",
      "Name: Sales, dtype: float64\n"
     ]
    }
   ],
   "source": [
    "sales_by_period = df_cleaned.groupby('HolidayPeriod')['Sales'].mean()\n",
    "print(sales_by_period)\n"
   ]
  },
  {
   "cell_type": "code",
   "execution_count": 8,
   "metadata": {},
   "outputs": [
    {
     "data": {
      "image/png": "[encoded data removed]",
      "text/plain": [
       "<Figure size 640x480 with 1 Axes>"
      ]
     },
     "metadata": {},
     "output_type": "display_data"
    }
   ],
   "source": [
    "import seaborn as sns\n",
    "import matplotlib.pyplot as plt\n",
    "\n",
    "sns.barplot(x=sales_by_period.index, y=sales_by_period.values)\n",
    "plt.title('Average Sales Before, During, and After Holidays')\n",
    "plt.ylabel('Average Sales')\n",
    "plt.show()\n"
   ]
  },
  {
   "cell_type": "code",
   "execution_count": null,
   "metadata": {},
   "outputs": [],
   "source": []
  }
 ],
 "metadata": {
  "kernelspec": {
   "display_name": "venv",
   "language": "python",
   "name": "python3"
  },
  "language_info": {
   "codemirror_mode": {
    "name": "ipython",
    "version": 3
   },
   "file_extension": ".py",
   "mimetype": "text/x-python",
   "name": "python",
   "nbconvert_exporter": "python",
   "pygments_lexer": "ipython3",
   "version": "3.12.5"
  }
 },
 "nbformat": 4,
 "nbformat_minor": 2
}
